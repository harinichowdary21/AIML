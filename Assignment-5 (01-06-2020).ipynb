{
 "cells": [
  {
   "cell_type": "markdown",
   "metadata": {},
   "source": [
    "# CSE-221710312062-HARINI"
   ]
  },
  {
   "cell_type": "markdown",
   "metadata": {},
   "source": [
    "1. PASSWORD PICKER"
   ]
  },
  {
   "cell_type": "code",
   "execution_count": 1,
   "metadata": {},
   "outputs": [
    {
     "name": "stdout",
     "output_type": "stream",
     "text": [
      "brightlaptop41@\n",
      "Enter 'y' for another password: y\n",
      "brightrock78!\n",
      "Enter 'y' for another password: y\n",
      "brightindia59)\n",
      "Enter 'y' for another password: y\n",
      "blackrock27)\n",
      "Enter 'y' for another password: y\n",
      "blacklaptop10#\n",
      "Enter 'y' for another password: n\n"
     ]
    }
   ],
   "source": [
    "import random\n",
    "import string\n",
    "adjective = \"blue\",\"sweet\",\"good\",\"better\",\"bright\",\"black\"\n",
    "noun = \"usa\",\"india\",\"pen\",\"laptop\",\"paper\",\"rock\",\"fan\",\"light\",\"tube\"\n",
    "special = \"!\",\"@\",\"#\",\"$\",\"^\",\"*\",\")\",\"(\"\n",
    "n = \"y\"\n",
    "while n == \"y\":\n",
    "    password = random.choice(adjective)+random.choice(noun)+str(random.randint(0,100))+random.choice(special)\n",
    "    print(password)\n",
    "    n = input(\"Enter 'y' for another password: \")"
   ]
  }
 ],
 "metadata": {
  "kernelspec": {
   "display_name": "Python 3",
   "language": "python",
   "name": "python3"
  },
  "language_info": {
   "codemirror_mode": {
    "name": "ipython",
    "version": 3
   },
   "file_extension": ".py",
   "mimetype": "text/x-python",
   "name": "python",
   "nbconvert_exporter": "python",
   "pygments_lexer": "ipython3",
   "version": "3.7.6"
  }
 },
 "nbformat": 4,
 "nbformat_minor": 4
}
