{
 "cells": [
  {
   "cell_type": "markdown",
   "metadata": {},
   "source": [
    "# CSE-221710312062-HARINI"
   ]
  },
  {
   "cell_type": "markdown",
   "metadata": {},
   "source": [
    "1. Count the no.of words,no.of letters,no.of lines available in your file\n"
   ]
  },
  {
   "cell_type": "code",
   "execution_count": 1,
   "metadata": {},
   "outputs": [],
   "source": [
    "#open\n",
    "f = open(\"assignment4.txt\",\"w\")\n",
    "f.write(\"hi\\nhello\\npython\")\n",
    "f.close()"
   ]
  },
  {
   "cell_type": "code",
   "execution_count": 6,
   "metadata": {},
   "outputs": [
    {
     "name": "stdout",
     "output_type": "stream",
     "text": [
      "num of letter:  15 , num of words:  3 , num of lines: 3\n"
     ]
    }
   ],
   "source": [
    "f = open(\"assignment4.txt\",\"r\")\n",
    "data = f.read()\n",
    "numofletter = len(data)\n",
    "numofwords = len(data.split())\n",
    "numoflines = len(data.splitlines())\n",
    "print(\"num of letter: \",numofletter,\", num of words: \",numofwords,\", num of lines:\",numoflines)\n",
    "f.close()"
   ]
  },
  {
   "cell_type": "markdown",
   "metadata": {},
   "source": [
    "2. Copy the content of one file to another"
   ]
  },
  {
   "cell_type": "code",
   "execution_count": 7,
   "metadata": {},
   "outputs": [],
   "source": [
    "with open(\"assignment4.txt\") as f:\n",
    "    with open(\"copy.txt\", \"w\") as f1:\n",
    "        for line in f:\n",
    "            f1.write(line)"
   ]
  },
  {
   "cell_type": "code",
   "execution_count": 8,
   "metadata": {},
   "outputs": [
    {
     "name": "stdout",
     "output_type": "stream",
     "text": [
      "hi\n",
      "hello\n",
      "python\n"
     ]
    }
   ],
   "source": [
    "f = open(\"copy.txt\",\"r\")\n",
    "data = f.read()\n",
    "print(data)\n",
    "f.close()"
   ]
  },
  {
   "cell_type": "markdown",
   "metadata": {},
   "source": [
    "3. Display the words starting with letter 'p'"
   ]
  },
  {
   "cell_type": "code",
   "execution_count": 14,
   "metadata": {},
   "outputs": [
    {
     "name": "stdout",
     "output_type": "stream",
     "text": [
      "python\n"
     ]
    }
   ],
   "source": [
    "f = open(\"assignment4.txt\",\"r\")\n",
    "data = f.read()\n",
    "\n",
    "for i in data.split():\n",
    "    if i.startswith(\"p\"):\n",
    "        print(i)\n",
    "\n",
    "f.close()"
   ]
  },
  {
   "cell_type": "markdown",
   "metadata": {},
   "source": [
    "4. Rename and remove files"
   ]
  },
  {
   "cell_type": "code",
   "execution_count": 15,
   "metadata": {},
   "outputs": [],
   "source": [
    "#rename\n",
    "import os\n",
    "os.rename(\"assignment4.txt\",\"assignment.txt\")"
   ]
  },
  {
   "cell_type": "code",
   "execution_count": 16,
   "metadata": {},
   "outputs": [],
   "source": [
    "#removing\n",
    "import os\n",
    "os.remove(\"assignment.txt\")"
   ]
  },
  {
   "cell_type": "markdown",
   "metadata": {},
   "source": [
    "5. Create a folder\n",
    "###### Goto that folder and create 5 no.of files\n",
    "###### All the file names should be unique\n",
    "###### Add some content into the file and the content in all the files should be unique\n",
    "###### File size should be 512bits"
   ]
  },
  {
   "cell_type": "code",
   "execution_count": 23,
   "metadata": {},
   "outputs": [],
   "source": [
    "#folder creating\n",
    "import os\n",
    "import string\n",
    "import random\n",
    "os.mkdir('filesize_question')"
   ]
  },
  {
   "cell_type": "code",
   "execution_count": null,
   "metadata": {},
   "outputs": [],
   "source": [
    "for i in range(5):\n",
    "    file_name = \"/Desktop/AIandML//filesize_question//file%d\"%(i) \n",
    "    f = open(filesize_question,\"a\")\n",
    "    data = \"\"\n",
    "    for i in range(512):\n",
    "        data = data + random.choice(string.ascii_letters)\n",
    "    f.write(data)\n",
    "    f.close()"
   ]
  }
 ],
 "metadata": {
  "kernelspec": {
   "display_name": "Python 3",
   "language": "python",
   "name": "python3"
  },
  "language_info": {
   "codemirror_mode": {
    "name": "ipython",
    "version": 3
   },
   "file_extension": ".py",
   "mimetype": "text/x-python",
   "name": "python",
   "nbconvert_exporter": "python",
   "pygments_lexer": "ipython3",
   "version": "3.7.6"
  }
 },
 "nbformat": 4,
 "nbformat_minor": 4
}
