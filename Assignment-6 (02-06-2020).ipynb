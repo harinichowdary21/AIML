{
 "cells": [
  {
   "cell_type": "markdown",
   "metadata": {},
   "source": [
    "# CSE-221710312062-HARINI"
   ]
  },
  {
   "cell_type": "markdown",
   "metadata": {},
   "source": [
    "## Nine Lives:"
   ]
  },
  {
   "cell_type": "code",
   "execution_count": 1,
   "metadata": {},
   "outputs": [],
   "source": [
    "import random\n",
    "lives = 9\n",
    "heart_symbol = '\\u2764'\n",
    "words = [\"hello\",\"pizza\",\"apple\",\"fairy\",\"teeth\"]\n",
    "secret_word = random.choice(words)\n",
    "clue = list('?????')\n",
    "guessed_word_correctly = False"
   ]
  },
  {
   "cell_type": "code",
   "execution_count": 2,
   "metadata": {},
   "outputs": [],
   "source": [
    "def update_clue(guessed_letter,secret_word,clue):\n",
    "    index = 0\n",
    "    while index<len(secret_word):\n",
    "        if guessed_letter == secret_word[index]:\n",
    "            clue[index] = guessed_letter\n",
    "        index += 1"
   ]
  },
  {
   "cell_type": "code",
   "execution_count": 3,
   "metadata": {},
   "outputs": [
    {
     "name": "stdout",
     "output_type": "stream",
     "text": [
      "['?', '?', '?', '?', '?']\n",
      "lives left:  ❤❤❤❤❤❤❤❤❤\n",
      "Guess a letter or whole word: e\n",
      "['?', 'e', '?', '?', '?']\n",
      "lives left:  ❤❤❤❤❤❤❤❤❤\n",
      "Guess a letter or whole word: h\n",
      "['h', 'e', '?', '?', '?']\n",
      "lives left:  ❤❤❤❤❤❤❤❤❤\n",
      "Guess a letter or whole word: o\n",
      "['h', 'e', '?', '?', 'o']\n",
      "lives left:  ❤❤❤❤❤❤❤❤❤\n",
      "Guess a letter or whole word: w\n",
      "Incorrect guess. You lose a life\n",
      "['h', 'e', '?', '?', 'o']\n",
      "lives left:  ❤❤❤❤❤❤❤❤\n",
      "Guess a letter or whole word: hello\n",
      "You won the game,Secret word was:  hello\n"
     ]
    }
   ],
   "source": [
    "while lives>0:\n",
    "    print(clue)\n",
    "    print(\"lives left: \",heart_symbol*lives)\n",
    "    guess = input(\"Guess a letter or whole word: \")\n",
    "    if guess == secret_word:\n",
    "        guessed_word_correctly = True\n",
    "        break\n",
    "    elif guess in secret_word:\n",
    "        update_clue(guess,secret_word,clue)\n",
    "    else:\n",
    "        print(\"Incorrect guess. You lose a life\")\n",
    "        lives -= 1\n",
    "if guessed_word_correctly:\n",
    "    print(\"You won the game,Secret word was: \",secret_word)\n",
    "else:\n",
    "     print(\"You lost the game,Secret word was: \",secret_word)"
   ]
  },
  {
   "cell_type": "code",
   "execution_count": null,
   "metadata": {},
   "outputs": [],
   "source": []
  }
 ],
 "metadata": {
  "kernelspec": {
   "display_name": "Python 3",
   "language": "python",
   "name": "python3"
  },
  "language_info": {
   "codemirror_mode": {
    "name": "ipython",
    "version": 3
   },
   "file_extension": ".py",
   "mimetype": "text/x-python",
   "name": "python",
   "nbconvert_exporter": "python",
   "pygments_lexer": "ipython3",
   "version": "3.7.6"
  }
 },
 "nbformat": 4,
 "nbformat_minor": 4
}
